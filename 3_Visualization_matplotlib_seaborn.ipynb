{
  "nbformat": 4,
  "nbformat_minor": 0,
  "metadata": {
    "colab": {
      "provenance": [],
      "authorship_tag": "ABX9TyNStSdIPnl6pUNpGyiJTusU",
      "include_colab_link": true
    },
    "kernelspec": {
      "name": "python3",
      "display_name": "Python 3"
    },
    "language_info": {
      "name": "python"
    }
  },
  "cells": [
    {
      "cell_type": "markdown",
      "metadata": {
        "id": "view-in-github",
        "colab_type": "text"
      },
      "source": [
        "<a href=\"https://colab.research.google.com/github/jacobhjh0999/inflearn_ML_from_the_foundation/blob/main/3_Visualization_matplotlib_seaborn.ipynb\" target=\"_parent\"><img src=\"https://colab.research.google.com/assets/colab-badge.svg\" alt=\"Open In Colab\"/></a>"
      ]
    },
    {
      "cell_type": "markdown",
      "source": [
        "---\n",
        "---\n",
        "# Matplotlib, Seaborn 을 활용한 나의 데이터 시각화 학습 계획\n",
        "\n",
        "## \"데이터 시각화를 공부하고, **어떻게 나의 것으로 만들 것인가.**\"\n",
        "\n",
        "- 데이터 시각화는 단순히 코드를 외우는 것보다, 원리를 이해하고 그 원리를 실제 문제에 적용하는 것이 중요합니다. 여러분이 겪고 있는 고민은 매우 자연스러운 것으로, 많은 사람들이 강의를 듣고 나면 그 내용을 어떻게 자신의 것으로 만들 수 있을지 고민합니다. 이제 여러분에게 맞는 학습 방식을 제시하고, 그 방식대로 학습할 수 있도록 도와드리겠습니다.\n",
        "\n",
        "## **학습 방식 추천:  \"실습 기반의 반복 학습\"**\n",
        "\n",
        "- 데이터 시각화는 코드를 외우는 것보다는 실제 데이터를 가지고 다양한 시각화를 실습하는 것이 가장 효과적입니다.\n",
        "- 이 과정에서 중요한 것은 **\"왜 이 방식으로 데이터를 시각화하는지\"**에 대한 이해입니다. 이를 바탕으로 단계적으로 공부를 진행하면, 나중에 강의에서 배운 내용을 응용할 수 있게 됩니다.\n",
        "---\n",
        "---\n"
      ],
      "metadata": {
        "id": "ThpEdnQu6rUt"
      }
    },
    {
      "cell_type": "markdown",
      "source": [
        "---\n",
        "---\n",
        "\n",
        "\n",
        "# 3주차 강의_matplotlib과 seaborn 라이브러리를 활용한 데이터 시각화\n",
        "\n",
        "\n",
        "---\n",
        "\n",
        "\n",
        "\n",
        "## velog 주소\n",
        "\n",
        "https://velog.io/@changhtun1/%EA%B8%B0%EC%B4%88%EB%B6%80%ED%84%B0-%EC%8C%93%EC%95%84%EA%B0%80%EB%8A%94-%EB%A8%B8%EC%8B%A0%EB%9F%AC%EB%8B%9D-3\n",
        "\n",
        "## 유튜브 주소\n",
        "\n",
        "https://youtu.be/OAg7vOFjVck?si=rPLVlwN58ZtPR1J3\n",
        "\n",
        "## 연습 데이터 url\n",
        "\n",
        "https://drive.google.com/drive/folders/149jcCyJFKKG5MFaPNWnYYqM2EkzgRz2P?usp=sharing\n",
        "\n",
        "\n",
        "---\n",
        "---\n"
      ],
      "metadata": {
        "id": "If3beJ-w8YvE"
      }
    },
    {
      "cell_type": "markdown",
      "source": [
        "## 시각화 라이브러리\n",
        "\n",
        "### 1. matplotlib\n",
        "- Matplotlib은 파이썬에서 가장 널리 사용되는 시각화 라이브러리로, 다양한 그래프와 플롯을 그릴 수 있습니다.\n",
        "- 이 라이브러리는 다양한 종류의 차트, 그래프, 히스토그램 등을 그릴 수 있는 기능을 제공합니다.\n",
        "\n",
        "### 2. seaborn\n",
        "- Seaborn은 Matplotlib을 기반으로 구축된 고수준 시각화 라이브러리로, Matplotlib을 좀 더 쉽게 사용할 수 있도록 도와주는 다양한 기능을 제공합니다.\n",
        "- 통계적 시각화에 적합한 색상 팔레트, 스타일, 레이아웃이 내장되어 있어, 사용자는 시각적인 완성도를 고려하지 않고도 더 깔끔하고 직관적인 그래프를 쉽게 만들 수 있습니다.\n",
        "---\n"
      ],
      "metadata": {
        "id": "0ELZQHRHI6Ze"
      }
    },
    {
      "cell_type": "markdown",
      "source": [
        "# 0. matplotlib, seaborn 임포트"
      ],
      "metadata": {
        "id": "JrscY2aWNebz"
      }
    },
    {
      "cell_type": "code",
      "execution_count": 1,
      "metadata": {
        "id": "IVuG92CN5aR4"
      },
      "outputs": [],
      "source": [
        "import numpy as np\n",
        "import pandas as pd\n",
        "\n",
        "# 1. matplotlib 라이브러리 import\n",
        "import matplotlib.pyplot as plt\n",
        "\n",
        "# 2. seaborn 라이브러리 import\n",
        "import seaborn as sns\n",
        "\n",
        "import warnings # 경고문구 때문에 import\n"
      ]
    },
    {
      "cell_type": "markdown",
      "source": [
        "# 1. 그래프의 전역 설정 (setting)"
      ],
      "metadata": {
        "id": "0qY3qpZjN-m7"
      }
    },
    {
      "cell_type": "markdown",
      "source": [
        "---\n",
        "## plt.rcParams에 대하여!\n",
        "### rcParams = 딕셔너리\n",
        "- rcParams는 Matplotlib의 전역 설정을 관리하는 딕셔너리로, 그래프 스타일, 레이아웃, 텍스트 스타일 등 다양한 설정 항목들을 저장하고 있습니다. figure.figsize는 그 중에서 그래프 크기를 설정하는 키입니다.\n",
        "---\n",
        "##sns.set에 대하여!\n",
        "- sns.set(): Seaborn에서 그래프의 기본 스타일을 설정하는 함수입니다. 이 함수는 Matplotlib의 스타일을 변경하며, 여러 가지 기본 스타일 옵션을 제공합니다.\n",
        "- sns.set()은 그래프의 전체적인 디자인(배경, 그리드, 폰트 등)을 설정할 수 있습니다.\n",
        "---\n",
        "##sns.set_pallete에 대하여!\n",
        "- sns.set_palette(): 색상 테마 설정\n",
        "- sns.set_palette()는 Seaborn의 색상 팔레트(palette)를 설정하는 함수입니다. 이 함수는 그래프에서 사용되는 색상 테마를 정의합니다.\n"
      ],
      "metadata": {
        "id": "Wny4eCv8LkqN"
      }
    },
    {
      "cell_type": "code",
      "source": [
        "# 한 번에 결을 맞추기 위해서 기본설정 해두기\n",
        "\n",
        "# plt의 그래프 사이즈\n",
        "plt.rcParams['figure.figsize']=[10,8] # rcParams는 Matplotlib의 전역 설정을 관리하는 딕셔너리\n",
        "\n",
        "# seaborn 그래프의 기본 스타일\n",
        "sns.set(style='whitegrid')\n",
        "\n",
        "# seaborn 그래프의 색상 테마\n",
        "sns.set_palette('pastel')\n",
        "\n",
        "# 경고 무시\n",
        "warnings.filterwarnings('ignore')"
      ],
      "metadata": {
        "id": "O42jJqmmN6nd"
      },
      "execution_count": 2,
      "outputs": []
    },
    {
      "cell_type": "code",
      "source": [
        "# matplotlib 그래프에서 한글이 깨지는 경우 => 잘 저장해놨다가 복붙하면 됨!\n",
        "from matplotlib import font_manager, rc # rc = \"run configuration\"\n",
        "import platform\n",
        "\n",
        "if platform.system() == 'Windows':\n",
        "    # 윈도우인 경우\n",
        "    font_name = font_manager.FontProperties(fname='c:/Windows/Fonts/malgun.ttf').get_name()\n",
        "    rc('font',family=font_name)\n",
        "else:\n",
        "    # Mac인 경우\n",
        "    rc('font',family='AppltGothic')\n",
        "\n",
        "import matplotlib\n",
        "matplotlib.rcParams['axes.unicode_minus'] = False"
      ],
      "metadata": {
        "id": "fsd8pg1CNSkJ"
      },
      "execution_count": 5,
      "outputs": []
    },
    {
      "cell_type": "markdown",
      "source": [],
      "metadata": {
        "id": "2WP8023MR_WU"
      }
    },
    {
      "cell_type": "code",
      "source": [
        "#3_1 10분 7초부터!!!!!"
      ],
      "metadata": {
        "id": "oOaCV5XKRtfw"
      },
      "execution_count": null,
      "outputs": []
    }
  ]
}