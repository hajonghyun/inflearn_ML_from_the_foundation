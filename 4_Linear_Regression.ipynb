{
  "nbformat": 4,
  "nbformat_minor": 0,
  "metadata": {
    "colab": {
      "provenance": [],
      "toc_visible": true,
      "mount_file_id": "1BnEeYkXG2zncVEb6oc0tYm44wwP5Upmc",
      "authorship_tag": "ABX9TyPCZmf+Yj0eujMn/Xj7WqZp",
      "include_colab_link": true
    },
    "kernelspec": {
      "name": "python3",
      "display_name": "Python 3"
    },
    "language_info": {
      "name": "python"
    }
  },
  "cells": [
    {
      "cell_type": "markdown",
      "metadata": {
        "id": "view-in-github",
        "colab_type": "text"
      },
      "source": [
        "<a href=\"https://colab.research.google.com/github/hajonghyun/inflearn_ML_from_the_foundation/blob/main/4_Linear_Regression.ipynb\" target=\"_parent\"><img src=\"https://colab.research.google.com/assets/colab-badge.svg\" alt=\"Open In Colab\"/></a>"
      ]
    },
    {
      "cell_type": "markdown",
      "source": [
        "---\n",
        "---\n",
        "\n",
        "\n",
        "# 선형회귀 이론 및 실습 # 4_1\n",
        "\n",
        "\n",
        "---\n",
        "---\n",
        "\n",
        "\n",
        "\n",
        "## velog 주소\n",
        "\n",
        "https://velog.io/@changhtun1/python-%EC%84%A0%ED%98%95-%ED%9A%8C%EA%B7%80-%EC%9D%B4%EB%A1%A0-%EB%B0%8F-%EC%8B%A4%EC%8A%B5\n",
        "\n",
        "## 유튜브 주소\n",
        "\n",
        "https://youtu.be/OAg7vOFjVck?si=rPLVlwN58ZtPR1J3\n",
        "\n",
        "## 연습 데이터 url\n",
        "\n",
        "https://drive.google.com/drive/folders/149jcCyJFKKG5MFaPNWnYYqM2EkzgRz2P?usp=sharing\n",
        "\n",
        "\n",
        "---\n",
        "---\n"
      ],
      "metadata": {
        "id": "If3beJ-w8YvE"
      }
    },
    {
      "cell_type": "markdown",
      "source": [
        "# 선형 회귀 모델\n",
        "\n",
        "## 🧮 선형 회귀 모델 기본 정리\n",
        "\n",
        "선형 회귀는 다음과 같은 가설 함수를 사용합니다:\n",
        "\n",
        "$$\n",
        "\\hat{y} = X \\theta\n",
        "$$\n",
        "\n",
        "-  \\hat{y} : 예측값 (벡터)  \n",
        "- \\( X \\): 입력 데이터 행렬 (샘플 수 \\( m \\), 특성 수 \\( n \\))  \n",
        "- \\( \\theta \\): 학습해야 할 파라미터 벡터 (\\( n \\times 1 \\))\n",
        "\n",
        "## 🎯 목적: 손실 함수 최소화\n",
        "\n",
        "가장 일반적으로 사용하는 손실 함수는 평균제곱오차(MSE, Mean Squared Error)입니다:\n",
        "\n",
        "$$\n",
        "J(\\theta) = \\frac{1}{2m} \\sum_{i=1}^m (\\hat{y}^{(i)} - y^{(i)})^2 = \\frac{1}{2m} \\| X\\theta - y \\|^2\n",
        "$$\n",
        "\n",
        "---\n"
      ],
      "metadata": {
        "id": "DVB6ORFmeAyi"
      }
    },
    {
      "cell_type": "markdown",
      "source": [
        "# 선형 회귀 모델의 여러가지 최적화 방법"
      ],
      "metadata": {
        "id": "SpwAgtOYavxU"
      }
    },
    {
      "cell_type": "markdown",
      "source": [
        "##📌 1. 정규 방정식 (Normal Equation)\n",
        "🔧 핵심 원리\n",
        "- 폐쇄형 수식(closed-form solution)을 이용하여 가중치를 한 번에 계산하는 방법.\n",
        "\n",
        "- 수학적으로 손실 함수(예: MSE)를 최소화하는 해를 직접 구하는 방식.\n",
        "\n",
        "💡 머신러닝 관점\n",
        "- 데이터의 크기가 작거나 중간 규모일 때 빠르고 정확함.\n",
        "\n",
        "- 행렬 연산(역행렬 계산)이 필요하므로 데이터 수가 많으면 계산 비용이 큼.\n",
        "\n",
        "🧃 예시\n",
        "- 마치 시험 문제를 푸는 공식이 있는 상황과 같아요.\n",
        "- \"2차 방정식을 풀어라\" → 근의 공식에 숫자만 넣으면 답이 나오죠.\n",
        "- 데이터도 적고 계산도 간단할 때 유리합니다.\n",
        "\n"
      ],
      "metadata": {
        "id": "GSLHQtBMajKO"
      }
    },
    {
      "cell_type": "markdown",
      "source": [
        "![정규방정식.jpg](data:image/jpeg;base64,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)\n"
      ],
      "metadata": {
        "id": "eP3t3k2Cdxgb"
      }
    },
    {
      "cell_type": "markdown",
      "source": [
        "### ✅ 정규방정식 도출 과정\n",
        "\n",
        "손실 함수 \\( J(\\theta) \\)를 최소화하는 \\( \\theta \\)를 찾기 위해 미분해서 0으로 놓고 풉니다.\n",
        "\n",
        "1. 손실 함수:\n",
        "\n",
        "$$\n",
        "J(\\theta) = \\frac{1}{2m} (X\\theta - y)^T (X\\theta - y)\n",
        "$$\n",
        "\n",
        "2. 미분:\n",
        "\n",
        "$$\n",
        "\\nabla_\\theta J(\\theta) = \\frac{1}{m} X^T (X\\theta - y)\n",
        "$$\n",
        "\n",
        "3. 최소화 조건:\n",
        "\n",
        "$$\n",
        "X^T X \\theta = X^T y\n",
        "$$\n",
        "\n",
        "---\n",
        "\n",
        "### 🟨 최종 정규방정식 (Normal Equation)\n",
        "\n",
        "정규방정식을 정리하면 다음과 같습니다:\n",
        "\n",
        "$$\n",
        "\\boxed{\\theta = (X^T X)^{-1} X^T y}\n",
        "$$\n",
        "---\n"
      ],
      "metadata": {
        "id": "4GcNcHH6e9g3"
      }
    },
    {
      "cell_type": "markdown",
      "source": [
        "### 🔍 예시: 키(신장)으로 몸무게 예측하기\n",
        "\n",
        "| 사람 | 키(cm) | 몸무게(kg) |\n",
        "|------|--------|------------|\n",
        "| A    | 160    | 55         |\n",
        "| B    | 170    | 65         |\n",
        "| C    | 180    | 75         |\n",
        "\n",
        "- \\( X \\) 행렬 (Bias Term 포함):\n",
        "\n",
        "$$\n",
        "X = \\begin{bmatrix}\n",
        "1 & 160 \\\\\n",
        "1 & 170 \\\\\n",
        "1 & 180\n",
        "\\end{bmatrix}, \\quad\n",
        "y = \\begin{bmatrix}\n",
        "55 \\\\\n",
        "65 \\\\\n",
        "75\n",
        "\\end{bmatrix}\n",
        "$$\n",
        "\n",
        "- 정규방정식에 대입:\n",
        "\n",
        "1. \\( X^T X \\), \\( X^T y \\) 계산  \n",
        "2. 역행렬 계산 → \\( \\theta = (X^T X)^{-1} X^T y \\)\n",
        "\n",
        "→ 최적의 \\( \\theta_0 \\)(절편), \\( \\theta_1 \\)(기울기) 값을 구할 수 있습니다!\n",
        "\n",
        "---\n",
        "\n",
        "### ⚠️ 정규방정식의 단점\n",
        "\n",
        "- 역행렬 계산 필요 → 시간 복잡도 \\( O(n^3) \\)\n",
        "- \\( X^T X \\)가 **역행렬을 가질 수 없는 경우**도 있음 (예: 다중공선성)\n",
        "- 고차원 데이터셋에서는 **경사 하강법(Gradient Descent)**이 더 효율적임\n",
        "\n",
        "---"
      ],
      "metadata": {
        "id": "5HWQs7L0gD_-"
      }
    },
    {
      "cell_type": "markdown",
      "source": [
        "### bias term이란?\n",
        "선형 회귀(linear regression)는 종속 변수 \\( y \\)와 독립 변수 \\( x \\) 사이의 선형 관계를 모델링하는 기법입니다.  \n",
        "기본 수식은 다음과 같습니다:\n",
        "\n",
        "\\[\n",
        "y = w_1 x + b\n",
        "\\]\n",
        "\n",
        "- \\( w_1 \\): 입력 \\( x \\)에 대한 가중치 (weight)  \n",
        "- \\( b \\): 편향 항 (bias term, 절편)\n",
        "\n",
        "여기서 **bias term \\( b \\)**는 데이터가 원점을 지나지 않아도 되는 자유도를 제공합니다.  \n",
        "예를 들어, 키가 0cm인 사람이 체중이 0kg이어야 할 이유는 없습니다.  \n",
        "그래서 **bias term은 꼭 필요합니다.**\n",
        "\n",
        "그런데 이 모델을 **행렬로 계산하려면** 문제가 하나 생깁니다.\n",
        "\n",
        "\\[\n",
        "y = Xw + b\n",
        "\\]\n",
        "\n",
        "이렇게 계산하면 bias term \\( b \\)가 벡터 형태로 분리돼 있어 계산이 불편합니다.  \n",
        "→ 그래서 \\( b \\)를 포함할 수 있도록 입력 \\( X \\)에 **1로 이루어진 열**을 추가합니다.\n",
        "\n",
        "즉, 새로운 모델은 이렇게 됩니다:\n",
        "\n",
        "\\[\n",
        "X' =\n",
        "\\begin{bmatrix}\n",
        "1 & x_1 \\\\\n",
        "1 & x_2 \\\\\n",
        "\\vdots & \\vdots \\\\\n",
        "1 & x_n\n",
        "\\end{bmatrix},\n",
        "\n",
        "\n",
        "w' =\n",
        "\\begin{bmatrix}\n",
        "b \\\\\n",
        "w_1\n",
        "\\end{bmatrix}\n",
        "\\quad \\Rightarrow \\quad\n",
        "y = X' w'\n",
        "\\]\n",
        "\n",
        "\n",
        "**1을 추가하는 이유**는 모든 샘플에 동일한 상수를 곱해서  \n",
        "**bias term을 모델 내에서 일관되게 곱셈 연산으로 처리하기 위함입니다.**\n"
      ],
      "metadata": {
        "id": "rE0mGMSghZVL"
      }
    },
    {
      "cell_type": "code",
      "source": [
        "# 정규방정식 실습\n",
        "\n",
        "# 0. x,y 데이터 값 만들고 scatter로 시각화하기\n",
        "\n",
        "\n",
        "import matplotlib.pyplot as plt\n",
        "import numpy as np\n",
        "\n",
        "x = 2*np.random.rand(100,1) # 0~2 사이의 균일분포 => shape: 100*1\n",
        "y = 4 + 3*x + np.random.randn(100,1) # 정규분포 => shape: 100*1\n",
        "\n",
        "plt.scatter(x,y)\n",
        "plt.show()\n"
      ],
      "metadata": {
        "colab": {
          "base_uri": "https://localhost:8080/",
          "height": 430
        },
        "id": "hOvOt4dAdtH1",
        "outputId": "8773696f-2181-4dd6-afaf-192566411649"
      },
      "execution_count": 12,
      "outputs": [
        {
          "output_type": "display_data",
          "data": {
            "text/plain": [
              "<Figure size 640x480 with 1 Axes>"
            ],
            "image/png": "[encoded data removed]"
          },
          "metadata": {}
        }
      ]
    },
    {
      "cell_type": "code",
      "source": [
        "# 1. bias term 추가하기\n",
        "bias_term = np.ones((100,1))\n",
        "x_b = np.c_[bias_term,x]\n",
        "x_b"
      ],
      "metadata": {
        "colab": {
          "base_uri": "https://localhost:8080/"
        },
        "id": "MSq1dhdmnYWs",
        "outputId": "33d85d0a-4c3a-4c6f-d802-f2830f1a3dff"
      },
      "execution_count": 14,
      "outputs": [
        {
          "output_type": "execute_result",
          "data": {
            "text/plain": [
              "array([[1.        , 1.53986267],\n",
              "       [1.        , 1.61090996],\n",
              "       [1.        , 0.90172144],\n",
              "       [1.        , 1.07034637],\n",
              "       [1.        , 1.68018386],\n",
              "       [1.        , 0.82496802],\n",
              "       [1.        , 1.04260577],\n",
              "       [1.        , 1.25599394],\n",
              "       [1.        , 0.9574995 ],\n",
              "       [1.        , 0.39760773],\n",
              "       [1.        , 1.08370617],\n",
              "       [1.        , 1.97263364],\n",
              "       [1.        , 1.01243072],\n",
              "       [1.        , 0.17535021],\n",
              "       [1.        , 1.74315728],\n",
              "       [1.        , 0.69836568],\n",
              "       [1.        , 1.41403599],\n",
              "       [1.        , 0.59035713],\n",
              "       [1.        , 0.44370204],\n",
              "       [1.        , 0.52082217],\n",
              "       [1.        , 0.48883865],\n",
              "       [1.        , 1.16408228],\n",
              "       [1.        , 0.42850325],\n",
              "       [1.        , 1.14948101],\n",
              "       [1.        , 1.27640948],\n",
              "       [1.        , 0.6767991 ],\n",
              "       [1.        , 0.844614  ],\n",
              "       [1.        , 1.24383   ],\n",
              "       [1.        , 1.42341795],\n",
              "       [1.        , 0.83342066],\n",
              "       [1.        , 1.86139253],\n",
              "       [1.        , 0.04091386],\n",
              "       [1.        , 0.25159207],\n",
              "       [1.        , 0.83652644],\n",
              "       [1.        , 1.43763506],\n",
              "       [1.        , 1.95637642],\n",
              "       [1.        , 1.72738104],\n",
              "       [1.        , 0.65234058],\n",
              "       [1.        , 0.4243637 ],\n",
              "       [1.        , 0.26685044],\n",
              "       [1.        , 1.35614806],\n",
              "       [1.        , 0.07173394],\n",
              "       [1.        , 0.76422593],\n",
              "       [1.        , 0.27921588],\n",
              "       [1.        , 1.21308634],\n",
              "       [1.        , 1.93785641],\n",
              "       [1.        , 1.14918411],\n",
              "       [1.        , 1.65624737],\n",
              "       [1.        , 1.26757082],\n",
              "       [1.        , 0.70554747],\n",
              "       [1.        , 0.99625825],\n",
              "       [1.        , 1.13249725],\n",
              "       [1.        , 1.56468955],\n",
              "       [1.        , 1.15102716],\n",
              "       [1.        , 0.90358159],\n",
              "       [1.        , 1.60460151],\n",
              "       [1.        , 1.87657695],\n",
              "       [1.        , 0.23551699],\n",
              "       [1.        , 0.62807664],\n",
              "       [1.        , 0.189578  ],\n",
              "       [1.        , 0.5103236 ],\n",
              "       [1.        , 1.7202595 ],\n",
              "       [1.        , 1.74541489],\n",
              "       [1.        , 1.92414447],\n",
              "       [1.        , 0.03776208],\n",
              "       [1.        , 1.95228774],\n",
              "       [1.        , 0.85379812],\n",
              "       [1.        , 1.65098736],\n",
              "       [1.        , 1.4125385 ],\n",
              "       [1.        , 0.78528155],\n",
              "       [1.        , 1.60942861],\n",
              "       [1.        , 0.86188721],\n",
              "       [1.        , 0.76352862],\n",
              "       [1.        , 1.84864668],\n",
              "       [1.        , 1.7750625 ],\n",
              "       [1.        , 0.66414497],\n",
              "       [1.        , 1.7405309 ],\n",
              "       [1.        , 0.42417602],\n",
              "       [1.        , 1.06949041],\n",
              "       [1.        , 0.66943689],\n",
              "       [1.        , 1.17022743],\n",
              "       [1.        , 0.71384034],\n",
              "       [1.        , 1.53710871],\n",
              "       [1.        , 1.14540732],\n",
              "       [1.        , 0.46452349],\n",
              "       [1.        , 1.5707656 ],\n",
              "       [1.        , 1.48567942],\n",
              "       [1.        , 1.17412264],\n",
              "       [1.        , 0.66418163],\n",
              "       [1.        , 1.29918315],\n",
              "       [1.        , 1.94554349],\n",
              "       [1.        , 0.83194909],\n",
              "       [1.        , 0.9424364 ],\n",
              "       [1.        , 1.98714661],\n",
              "       [1.        , 0.65914425],\n",
              "       [1.        , 1.22712408],\n",
              "       [1.        , 1.46600548],\n",
              "       [1.        , 0.97522688],\n",
              "       [1.        , 0.62249689],\n",
              "       [1.        , 1.90393637]])"
            ]
          },
          "metadata": {},
          "execution_count": 14
        }
      ]
    },
    {
      "cell_type": "code",
      "source": [
        "# 1. bias term 추가하기2\n",
        "bias_term = np.ones((100,1))\n",
        "x_b = np.column_stack((bias_term,x))\n",
        "x_b"
      ],
      "metadata": {
        "colab": {
          "base_uri": "https://localhost:8080/"
        },
        "id": "a5L5gvsZp3z0",
        "outputId": "7a903d64-4757-49da-d2fd-72b40400b526"
      },
      "execution_count": 20,
      "outputs": [
        {
          "output_type": "execute_result",
          "data": {
            "text/plain": [
              "array([[1.        , 1.53986267],\n",
              "       [1.        , 1.61090996],\n",
              "       [1.        , 0.90172144],\n",
              "       [1.        , 1.07034637],\n",
              "       [1.        , 1.68018386],\n",
              "       [1.        , 0.82496802],\n",
              "       [1.        , 1.04260577],\n",
              "       [1.        , 1.25599394],\n",
              "       [1.        , 0.9574995 ],\n",
              "       [1.        , 0.39760773],\n",
              "       [1.        , 1.08370617],\n",
              "       [1.        , 1.97263364],\n",
              "       [1.        , 1.01243072],\n",
              "       [1.        , 0.17535021],\n",
              "       [1.        , 1.74315728],\n",
              "       [1.        , 0.69836568],\n",
              "       [1.        , 1.41403599],\n",
              "       [1.        , 0.59035713],\n",
              "       [1.        , 0.44370204],\n",
              "       [1.        , 0.52082217],\n",
              "       [1.        , 0.48883865],\n",
              "       [1.        , 1.16408228],\n",
              "       [1.        , 0.42850325],\n",
              "       [1.        , 1.14948101],\n",
              "       [1.        , 1.27640948],\n",
              "       [1.        , 0.6767991 ],\n",
              "       [1.        , 0.844614  ],\n",
              "       [1.        , 1.24383   ],\n",
              "       [1.        , 1.42341795],\n",
              "       [1.        , 0.83342066],\n",
              "       [1.        , 1.86139253],\n",
              "       [1.        , 0.04091386],\n",
              "       [1.        , 0.25159207],\n",
              "       [1.        , 0.83652644],\n",
              "       [1.        , 1.43763506],\n",
              "       [1.        , 1.95637642],\n",
              "       [1.        , 1.72738104],\n",
              "       [1.        , 0.65234058],\n",
              "       [1.        , 0.4243637 ],\n",
              "       [1.        , 0.26685044],\n",
              "       [1.        , 1.35614806],\n",
              "       [1.        , 0.07173394],\n",
              "       [1.        , 0.76422593],\n",
              "       [1.        , 0.27921588],\n",
              "       [1.        , 1.21308634],\n",
              "       [1.        , 1.93785641],\n",
              "       [1.        , 1.14918411],\n",
              "       [1.        , 1.65624737],\n",
              "       [1.        , 1.26757082],\n",
              "       [1.        , 0.70554747],\n",
              "       [1.        , 0.99625825],\n",
              "       [1.        , 1.13249725],\n",
              "       [1.        , 1.56468955],\n",
              "       [1.        , 1.15102716],\n",
              "       [1.        , 0.90358159],\n",
              "       [1.        , 1.60460151],\n",
              "       [1.        , 1.87657695],\n",
              "       [1.        , 0.23551699],\n",
              "       [1.        , 0.62807664],\n",
              "       [1.        , 0.189578  ],\n",
              "       [1.        , 0.5103236 ],\n",
              "       [1.        , 1.7202595 ],\n",
              "       [1.        , 1.74541489],\n",
              "       [1.        , 1.92414447],\n",
              "       [1.        , 0.03776208],\n",
              "       [1.        , 1.95228774],\n",
              "       [1.        , 0.85379812],\n",
              "       [1.        , 1.65098736],\n",
              "       [1.        , 1.4125385 ],\n",
              "       [1.        , 0.78528155],\n",
              "       [1.        , 1.60942861],\n",
              "       [1.        , 0.86188721],\n",
              "       [1.        , 0.76352862],\n",
              "       [1.        , 1.84864668],\n",
              "       [1.        , 1.7750625 ],\n",
              "       [1.        , 0.66414497],\n",
              "       [1.        , 1.7405309 ],\n",
              "       [1.        , 0.42417602],\n",
              "       [1.        , 1.06949041],\n",
              "       [1.        , 0.66943689],\n",
              "       [1.        , 1.17022743],\n",
              "       [1.        , 0.71384034],\n",
              "       [1.        , 1.53710871],\n",
              "       [1.        , 1.14540732],\n",
              "       [1.        , 0.46452349],\n",
              "       [1.        , 1.5707656 ],\n",
              "       [1.        , 1.48567942],\n",
              "       [1.        , 1.17412264],\n",
              "       [1.        , 0.66418163],\n",
              "       [1.        , 1.29918315],\n",
              "       [1.        , 1.94554349],\n",
              "       [1.        , 0.83194909],\n",
              "       [1.        , 0.9424364 ],\n",
              "       [1.        , 1.98714661],\n",
              "       [1.        , 0.65914425],\n",
              "       [1.        , 1.22712408],\n",
              "       [1.        , 1.46600548],\n",
              "       [1.        , 0.97522688],\n",
              "       [1.        , 0.62249689],\n",
              "       [1.        , 1.90393637]])"
            ]
          },
          "metadata": {},
          "execution_count": 20
        }
      ]
    },
    {
      "cell_type": "code",
      "source": [
        "# 1. bias term 추가하기3\n",
        "bias_term = np.ones((100,1))\n",
        "x_b = np.concatenate((bias_term,x),axis=1)\n",
        "x_b"
      ],
      "metadata": {
        "colab": {
          "base_uri": "https://localhost:8080/"
        },
        "id": "BJK0pfWppYHA",
        "outputId": "82978c13-fa69-4a01-cdad-29c224a3a79c"
      },
      "execution_count": 19,
      "outputs": [
        {
          "output_type": "execute_result",
          "data": {
            "text/plain": [
              "array([[1.        , 1.53986267],\n",
              "       [1.        , 1.61090996],\n",
              "       [1.        , 0.90172144],\n",
              "       [1.        , 1.07034637],\n",
              "       [1.        , 1.68018386],\n",
              "       [1.        , 0.82496802],\n",
              "       [1.        , 1.04260577],\n",
              "       [1.        , 1.25599394],\n",
              "       [1.        , 0.9574995 ],\n",
              "       [1.        , 0.39760773],\n",
              "       [1.        , 1.08370617],\n",
              "       [1.        , 1.97263364],\n",
              "       [1.        , 1.01243072],\n",
              "       [1.        , 0.17535021],\n",
              "       [1.        , 1.74315728],\n",
              "       [1.        , 0.69836568],\n",
              "       [1.        , 1.41403599],\n",
              "       [1.        , 0.59035713],\n",
              "       [1.        , 0.44370204],\n",
              "       [1.        , 0.52082217],\n",
              "       [1.        , 0.48883865],\n",
              "       [1.        , 1.16408228],\n",
              "       [1.        , 0.42850325],\n",
              "       [1.        , 1.14948101],\n",
              "       [1.        , 1.27640948],\n",
              "       [1.        , 0.6767991 ],\n",
              "       [1.        , 0.844614  ],\n",
              "       [1.        , 1.24383   ],\n",
              "       [1.        , 1.42341795],\n",
              "       [1.        , 0.83342066],\n",
              "       [1.        , 1.86139253],\n",
              "       [1.        , 0.04091386],\n",
              "       [1.        , 0.25159207],\n",
              "       [1.        , 0.83652644],\n",
              "       [1.        , 1.43763506],\n",
              "       [1.        , 1.95637642],\n",
              "       [1.        , 1.72738104],\n",
              "       [1.        , 0.65234058],\n",
              "       [1.        , 0.4243637 ],\n",
              "       [1.        , 0.26685044],\n",
              "       [1.        , 1.35614806],\n",
              "       [1.        , 0.07173394],\n",
              "       [1.        , 0.76422593],\n",
              "       [1.        , 0.27921588],\n",
              "       [1.        , 1.21308634],\n",
              "       [1.        , 1.93785641],\n",
              "       [1.        , 1.14918411],\n",
              "       [1.        , 1.65624737],\n",
              "       [1.        , 1.26757082],\n",
              "       [1.        , 0.70554747],\n",
              "       [1.        , 0.99625825],\n",
              "       [1.        , 1.13249725],\n",
              "       [1.        , 1.56468955],\n",
              "       [1.        , 1.15102716],\n",
              "       [1.        , 0.90358159],\n",
              "       [1.        , 1.60460151],\n",
              "       [1.        , 1.87657695],\n",
              "       [1.        , 0.23551699],\n",
              "       [1.        , 0.62807664],\n",
              "       [1.        , 0.189578  ],\n",
              "       [1.        , 0.5103236 ],\n",
              "       [1.        , 1.7202595 ],\n",
              "       [1.        , 1.74541489],\n",
              "       [1.        , 1.92414447],\n",
              "       [1.        , 0.03776208],\n",
              "       [1.        , 1.95228774],\n",
              "       [1.        , 0.85379812],\n",
              "       [1.        , 1.65098736],\n",
              "       [1.        , 1.4125385 ],\n",
              "       [1.        , 0.78528155],\n",
              "       [1.        , 1.60942861],\n",
              "       [1.        , 0.86188721],\n",
              "       [1.        , 0.76352862],\n",
              "       [1.        , 1.84864668],\n",
              "       [1.        , 1.7750625 ],\n",
              "       [1.        , 0.66414497],\n",
              "       [1.        , 1.7405309 ],\n",
              "       [1.        , 0.42417602],\n",
              "       [1.        , 1.06949041],\n",
              "       [1.        , 0.66943689],\n",
              "       [1.        , 1.17022743],\n",
              "       [1.        , 0.71384034],\n",
              "       [1.        , 1.53710871],\n",
              "       [1.        , 1.14540732],\n",
              "       [1.        , 0.46452349],\n",
              "       [1.        , 1.5707656 ],\n",
              "       [1.        , 1.48567942],\n",
              "       [1.        , 1.17412264],\n",
              "       [1.        , 0.66418163],\n",
              "       [1.        , 1.29918315],\n",
              "       [1.        , 1.94554349],\n",
              "       [1.        , 0.83194909],\n",
              "       [1.        , 0.9424364 ],\n",
              "       [1.        , 1.98714661],\n",
              "       [1.        , 0.65914425],\n",
              "       [1.        , 1.22712408],\n",
              "       [1.        , 1.46600548],\n",
              "       [1.        , 0.97522688],\n",
              "       [1.        , 0.62249689],\n",
              "       [1.        , 1.90393637]])"
            ]
          },
          "metadata": {},
          "execution_count": 19
        }
      ]
    },
    {
      "cell_type": "markdown",
      "source": [
        "✅ np.c_와 비슷한 역할을 하면서 더 범용성 있는 함수들\n",
        "1. np.column_stack() – 가장 비슷하면서도 명확한 함수\n",
        "```python\n",
        "np.column_stack((a, b))\n",
        "```\n",
        "np.c_[a, b]와 거의 동일한 동작을 해.\n",
        "\n",
        "1차원 배열을 **자동으로 열벡터(2D)**로 바꾼 뒤, 옆으로 붙여줌.\n",
        "\n",
        "문법도 함수 스타일이라 코드 리뷰에서 이해하기 쉽고, 가독성이 좋음.\n",
        "\n",
        "2. np.concatenate() – 범용성 가장 높음\n",
        "```python\n",
        "np.concatenate([a, b], axis=1)\n",
        "```\n",
        "다양한 방향으로 붙일 수 있고, 1차원 이상부터 지원함.\n",
        "\n",
        "단점: 1차원 배열은 자동으로 2차원으로 바꿔주지 않음 → 직접 reshape 해야 함."
      ],
      "metadata": {
        "id": "jtcKPsccpFoV"
      }
    },
    {
      "cell_type": "markdown",
      "source": [
        "![정규방정식.jpg](data:image/jpeg;base64,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)"
      ],
      "metadata": {
        "id": "tovL1aAHqaum"
      }
    },
    {
      "cell_type": "code",
      "source": [
        "# 2. 정규방정식으로 theta best 구하기 (y = X*(theta)에서 데이터들을 가장 잘 표현하는 가중치 theta 구하기)\n",
        "\n",
        "theta_best = np.linalg.inv(x_b.T.dot(x_b)).dot(x_b.T).dot(y)\n",
        "theta_best"
      ],
      "metadata": {
        "colab": {
          "base_uri": "https://localhost:8080/"
        },
        "id": "NgJh3weQqGk7",
        "outputId": "8f3a8e2d-bb5e-4cb6-fe81-55a1612d2440"
      },
      "execution_count": 22,
      "outputs": [
        {
          "output_type": "execute_result",
          "data": {
            "text/plain": [
              "array([[4.32262648],\n",
              "       [2.8138361 ]])"
            ]
          },
          "metadata": {},
          "execution_count": 22
        }
      ]
    },
    {
      "cell_type": "markdown",
      "source": [
        "### ✅ 벡터 내적 vs 행렬 곱: 개념 차이\n",
        "\n",
        "🟢 벡터 내적 (dot product)\n",
        "\n",
        "```\n",
        "a = [a₁, a₂],    b = [b₁, b₂]\n",
        "\n",
        "a · b = a₁·b₁ + a₂·b₂ = 스칼라\n",
        "```\n",
        "\n",
        "즉, 두 벡터의 **유사도** 또는 **투영 관계**를 측정하는 연산이야.  \n",
        "👉 `np.dot(a, b)`에서 `a`, `b`가 둘 다 1차원일 때, 이게 수행돼.\n",
        "\n",
        "---\n",
        "\n",
        "🟢 행렬 곱 (matrix multiplication)\n",
        "\n",
        "```\n",
        "C = A · B   (단, A는 (m×n), B는 (n×p))\n",
        "```\n",
        "\n",
        "→ 결과는 `(m×p)` 크기의 행렬  \n",
        "👉 `np.dot(A, B)`에서 `A`와 `B`가 2D일 때 사용됨.\n"
      ],
      "metadata": {
        "id": "kPYFON-TsIn_"
      }
    },
    {
      "cell_type": "code",
      "source": [
        "# prompt: 위에서 구한 theat best로 선형회귀를 완료한 일차함수를 그려줘\n",
        "\n",
        "import matplotlib.pyplot as plt\n",
        "import numpy as np\n",
        "\n",
        "# Assuming theta_best is already calculated as in the provided code\n",
        "# If not, uncomment the following lines and run them first:\n",
        "# x = 2*np.random.rand(100,1)\n",
        "# y = 4 + 3*x + np.random.randn(100,1)\n",
        "# bias_term = np.ones((100,1))\n",
        "# x_b = np.c_[bias_term,x]\n",
        "# theta_best = np.linalg.inv(x_b.T.dot(x_b)).dot(x_b.T).dot(y)\n",
        "\n",
        "# Extract theta_0 (intercept) and theta_1 (slope)\n",
        "theta_0 = theta_best[0, 0]\n",
        "theta_1 = theta_best[1, 0]\n",
        "\n",
        "# Create the line based on theta_best\n",
        "x_line = np.linspace(0, 2, 100)  # Create 100 points between 0 and 2\n",
        "y_line = theta_0 + theta_1 * x_line\n",
        "\n",
        "# Plot the data points and the regression line\n",
        "plt.scatter(x, y, label='Data')\n",
        "plt.plot(x_line, y_line, color='red', label=f'Regression Line: y = {theta_0:.2f} + {theta_1:.2f}x')\n",
        "plt.xlabel('x')\n",
        "plt.ylabel('y')\n",
        "plt.title('Linear Regression')\n",
        "plt.legend()\n",
        "plt.show()\n"
      ],
      "metadata": {
        "colab": {
          "base_uri": "https://localhost:8080/",
          "height": 472
        },
        "id": "oOsOsxwWqxVS",
        "outputId": "a933bea2-3055-4abe-a7ee-b31b5dfd2105"
      },
      "execution_count": 23,
      "outputs": [
        {
          "output_type": "display_data",
          "data": {
            "text/plain": [
              "<Figure size 640x480 with 1 Axes>"
            ],
            "image/png": "[encoded data removed]"
          },
          "metadata": {}
        }
      ]
    },
    {
      "cell_type": "code",
      "source": [
        "# theta_0 (절편)과 theta_1 (기울기) 추출\n",
        "theta_0 = theta_best[0, 0]\n",
        "theta_1 = theta_best[1, 0]\n",
        "\n",
        "# x 좌표 0과 2에 대한 y 값 계산\n",
        "x_line = np.array([0, 2])\n",
        "y_line = theta_0 + theta_1 * x_line\n",
        "\n",
        "# 데이터 점과 회귀선 그리기\n",
        "plt.scatter(x, y, label='데이터')\n",
        "plt.plot(x_line, y_line, color='red', label=f'회귀선: y = {theta_0:.2f} + {theta_1:.2f}x')\n",
        "plt.xlabel('x')\n",
        "plt.ylabel('y')\n",
        "plt.title('선형 회귀')\n",
        "plt.legend()\n",
        "plt.show()"
      ],
      "metadata": {
        "colab": {
          "base_uri": "https://localhost:8080/",
          "height": 763
        },
        "id": "t6_NR6ztvaHE",
        "outputId": "4240e205-6539-4c2d-ab64-4cab5dab406f"
      },
      "execution_count": 24,
      "outputs": [
        {
          "output_type": "stream",
          "name": "stderr",
          "text": [
            "/usr/local/lib/python3.11/dist-packages/IPython/core/pylabtools.py:151: UserWarning: Glyph 49440 (\\N{HANGUL SYLLABLE SEON}) missing from font(s) DejaVu Sans.\n",
            "  fig.canvas.print_figure(bytes_io, **kw)\n",
            "/usr/local/lib/python3.11/dist-packages/IPython/core/pylabtools.py:151: UserWarning: Glyph 54805 (\\N{HANGUL SYLLABLE HYEONG}) missing from font(s) DejaVu Sans.\n",
            "  fig.canvas.print_figure(bytes_io, **kw)\n",
            "/usr/local/lib/python3.11/dist-packages/IPython/core/pylabtools.py:151: UserWarning: Glyph 54924 (\\N{HANGUL SYLLABLE HOE}) missing from font(s) DejaVu Sans.\n",
            "  fig.canvas.print_figure(bytes_io, **kw)\n",
            "/usr/local/lib/python3.11/dist-packages/IPython/core/pylabtools.py:151: UserWarning: Glyph 44480 (\\N{HANGUL SYLLABLE GWI}) missing from font(s) DejaVu Sans.\n",
            "  fig.canvas.print_figure(bytes_io, **kw)\n",
            "/usr/local/lib/python3.11/dist-packages/IPython/core/pylabtools.py:151: UserWarning: Glyph 45936 (\\N{HANGUL SYLLABLE DE}) missing from font(s) DejaVu Sans.\n",
            "  fig.canvas.print_figure(bytes_io, **kw)\n",
            "/usr/local/lib/python3.11/dist-packages/IPython/core/pylabtools.py:151: UserWarning: Glyph 51060 (\\N{HANGUL SYLLABLE I}) missing from font(s) DejaVu Sans.\n",
            "  fig.canvas.print_figure(bytes_io, **kw)\n",
            "/usr/local/lib/python3.11/dist-packages/IPython/core/pylabtools.py:151: UserWarning: Glyph 53552 (\\N{HANGUL SYLLABLE TEO}) missing from font(s) DejaVu Sans.\n",
            "  fig.canvas.print_figure(bytes_io, **kw)\n"
          ]
        },
        {
          "output_type": "display_data",
          "data": {
            "text/plain": [
              "<Figure size 640x480 with 1 Axes>"
            ],
            "image/png": "[encoded data removed]"
          },
          "metadata": {}
        }
      ]
    },
    {
      "cell_type": "markdown",
      "source": [
        "## 📌2. sklearn 패키지를 사용해서 theta best 네줄만에 만들기"
      ],
      "metadata": {
        "id": "GTcf3ogbv6aK"
      }
    },
    {
      "cell_type": "code",
      "source": [
        "from sklearn.linear_model import LinearRegression\n",
        "lin_reg = LinearRegression()\n",
        "lin_reg.fit(x,y)\n",
        "print(lin_reg.intercept_, lin_reg.coef_)"
      ],
      "metadata": {
        "colab": {
          "base_uri": "https://localhost:8080/"
        },
        "id": "zv5Mk3CuupsI",
        "outputId": "d4844b6d-51e6-4fbf-9831-11abdf6ad6b0"
      },
      "execution_count": 25,
      "outputs": [
        {
          "output_type": "stream",
          "name": "stdout",
          "text": [
            "[4.32262648] [[2.8138361]]\n"
          ]
        }
      ]
    }
  ]
}