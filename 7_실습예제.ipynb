{
  "nbformat": 4,
  "nbformat_minor": 0,
  "metadata": {
    "colab": {
      "provenance": [],
      "authorship_tag": "ABX9TyPfbOkCcvOd29e5qacoyH4r",
      "include_colab_link": true
    },
    "kernelspec": {
      "name": "python3",
      "display_name": "Python 3"
    },
    "language_info": {
      "name": "python"
    }
  },
  "cells": [
    {
      "cell_type": "markdown",
      "metadata": {
        "id": "view-in-github",
        "colab_type": "text"
      },
      "source": [
        "<a href=\"https://colab.research.google.com/github/hajonghyun/inflearn_ML_from_the_foundation/blob/main/7_%EC%8B%A4%EC%8A%B5%EC%98%88%EC%A0%9C.ipynb\" target=\"_parent\"><img src=\"https://colab.research.google.com/assets/colab-badge.svg\" alt=\"Open In Colab\"/></a>"
      ]
    },
    {
      "cell_type": "markdown",
      "source": [
        "# 7-1. 실습예제 1~3\n",
        "\n",
        " <실습예제 1> 원소가 모두 3인 (3,4,5) 형태의 numpy.array를 출력하시오 (제한시간: 20초)"
      ],
      "metadata": {
        "id": "0T0uXynV2ltW"
      }
    },
    {
      "cell_type": "code",
      "execution_count": null,
      "metadata": {
        "colab": {
          "base_uri": "https://localhost:8080/"
        },
        "id": "C7bkZfv_2iuR",
        "outputId": "3adbc4ca-f828-465d-9660-86ad7e199014"
      },
      "outputs": [
        {
          "output_type": "stream",
          "name": "stdout",
          "text": [
            "[[[3 3 3 3 3]\n",
            "  [3 3 3 3 3]\n",
            "  [3 3 3 3 3]\n",
            "  [3 3 3 3 3]]\n",
            "\n",
            " [[3 3 3 3 3]\n",
            "  [3 3 3 3 3]\n",
            "  [3 3 3 3 3]\n",
            "  [3 3 3 3 3]]\n",
            "\n",
            " [[3 3 3 3 3]\n",
            "  [3 3 3 3 3]\n",
            "  [3 3 3 3 3]\n",
            "  [3 3 3 3 3]]]\n"
          ]
        }
      ],
      "source": [
        "import numpy as np\n",
        "print(np.full((3,4,5),3))"
      ]
    },
    {
      "cell_type": "markdown",
      "source": [
        "### ✅ 코랩(Colab) 환경에서 검색 없이 함수의 매개변수(파라미터)를 확인하는 방법\n",
        "\n",
        "- 파라미터 순서나 사용법이 헷갈릴 때 아주 유용\n",
        "\n",
        "1. help() 함수 사용\n",
        "\n",
        "```\n",
        "help(np.full())\n",
        "```\n",
        "위처럼 help() 함수에 넘기면 함수의 전체 설명, 매개변수, 반환값까지 출력된다.\n",
        "\n",
        "2. ? 붙이기\n",
        "\n",
        "```\n",
        "np.full()?\n",
        "```\n",
        "이것도 help()랑 거의 똑같이 작동한다.\n",
        "Colab에서는 출력이 노트처럼 예쁘게 나와서 보기 좋다."
      ],
      "metadata": {
        "id": "AWBlKOsI_Sfi"
      }
    },
    {
      "cell_type": "markdown",
      "source": [
        "<실습예제 2> 정수 -50~50의 범위 안의 난수로 이루어진 (4,5) 형태의 numpy.array를 출력하고 행을 기준으로 오름차순 정렬한 결과와 전체 배열을 1차원 배열로 변경하여 오름차순 정렬한 결과를 출력하시오.(제한시간: 60초)"
      ],
      "metadata": {
        "id": "8TKphfQ76A2i"
      }
    },
    {
      "cell_type": "code",
      "source": [
        "import numpy as np\n",
        "\n",
        "arr = np.random.randint(-50,50,(3,4))\n",
        "print(arr)\n",
        "\n",
        "print(np.sort(arr,axis=1))\n",
        "\n",
        "print(np.sort(arr.ravel()))"
      ],
      "metadata": {
        "colab": {
          "base_uri": "https://localhost:8080/"
        },
        "id": "0kXhsYCs4s3h",
        "outputId": "ad4b659b-955c-45bf-b2e1-7ab4eacc445c"
      },
      "execution_count": null,
      "outputs": [
        {
          "output_type": "stream",
          "name": "stdout",
          "text": [
            "[[ 16  41 -37 -26]\n",
            " [  0 -33 -35 -17]\n",
            " [ 47   6  15  31]]\n",
            "[[-37 -26  16  41]\n",
            " [-35 -33 -17   0]\n",
            " [  6  15  31  47]]\n",
            "[-37 -35 -33 -26 -17   0   6  15  16  31  41  47]\n"
          ]
        }
      ]
    },
    {
      "cell_type": "code",
      "source": [
        "#만약 정수가 아니라 실수라면,\n",
        "arr = np.random.uniform(-50,50,(3,4))\n",
        "print(arr)"
      ],
      "metadata": {
        "colab": {
          "base_uri": "https://localhost:8080/"
        },
        "id": "p89xNUQx7Dah",
        "outputId": "e86e9c06-b4e3-4f76-a139-635b4099ff35"
      },
      "execution_count": null,
      "outputs": [
        {
          "output_type": "stream",
          "name": "stdout",
          "text": [
            "[[ 35.71905221 -32.58763924 -26.0375136  -32.42714   ]\n",
            " [ 33.66887901 -14.46387731 -21.34246382  47.88154971]\n",
            " [ 22.00139674  14.49258103  49.29163143 -15.64549463]]\n"
          ]
        }
      ]
    },
    {
      "cell_type": "markdown",
      "source": [
        "<실습예제3> 다음과 같은 파이썬 list가 존재한다. list안에 있는 각 numpy.array의 원소들의 평균값과 표준편차, 중앙값을 순서대로 구하여 구한 순서대로 원소가 이루어진 새로운 list를 구성하고 출력하시오.\n",
        "```python\n",
        "py_list = [\n",
        "    np.full(3,8),\n",
        "    np.array([33,-15,26]),\n",
        "    np.linspace(17,26,3)\n",
        "]\n",
        "```"
      ],
      "metadata": {
        "id": "O0qfFA9u-BqW"
      }
    },
    {
      "cell_type": "code",
      "source": [
        "py_list = [\n",
        "    np.full(3,8),\n",
        "    np.array([33,-15,26]),\n",
        "    np.linspace(17,26,3)\n",
        "]\n",
        "\n",
        "answer=[]\n",
        "\n",
        "for i in py_list:\n",
        "    answer.append(i.mean())\n",
        "    answer.append(i.std())\n",
        "    answer.append(np.median(i))\n",
        "\n",
        "print(answer)"
      ],
      "metadata": {
        "colab": {
          "base_uri": "https://localhost:8080/"
        },
        "id": "gZ31N-rx8X5I",
        "outputId": "31e1345e-838e-491b-d53a-57d41d97dc07"
      },
      "execution_count": null,
      "outputs": [
        {
          "output_type": "stream",
          "name": "stdout",
          "text": [
            "[np.float64(8.0), np.float64(0.0), np.float64(8.0), np.float64(14.666666666666666), np.float64(21.171259344267224), np.float64(26.0), np.float64(21.5), np.float64(3.6742346141747673), np.float64(21.5)]\n"
          ]
        }
      ]
    },
    {
      "cell_type": "markdown",
      "source": [
        "✅ 해결 방법: Numpy 자체 데이터 타입 => Python 내장 float로 변환하려면?\n",
        "방법은 간단합니다: .item() 또는 float() 를 써서 변환하면 됩니다."
      ],
      "metadata": {
        "id": "zsyWmpXu-2-j"
      }
    },
    {
      "cell_type": "code",
      "source": [
        "py_list = [\n",
        "    np.full(3,8),\n",
        "    np.array([33,-15,26]),\n",
        "    np.linspace(17,26,3)\n",
        "]\n",
        "\n",
        "answer=[]\n",
        "\n",
        "for i in py_list:\n",
        "    answer.append(float(i.mean()))\n",
        "    answer.append(float(i.std()))\n",
        "    answer.append(float(np.median(i)))\n",
        "\n",
        "print(answer)"
      ],
      "metadata": {
        "colab": {
          "base_uri": "https://localhost:8080/"
        },
        "id": "bT1rEP0R90KB",
        "outputId": "fe1fbd47-c947-4f51-a3b4-a8e071c281a4"
      },
      "execution_count": null,
      "outputs": [
        {
          "output_type": "stream",
          "name": "stdout",
          "text": [
            "[8.0, 0.0, 8.0, 14.666666666666666, 21.171259344267224, 26.0, 21.5, 3.6742346141747673, 21.5]\n"
          ]
        }
      ]
    },
    {
      "cell_type": "markdown",
      "source": [
        "# 7-2. 실습예제 4~5"
      ],
      "metadata": {
        "id": "91qEGpU3An-E"
      }
    },
    {
      "cell_type": "markdown",
      "source": [
        "<실습예제4> 다음과 같은 numpy.array가 존재한다. 이 배열을 행을 기준으로 3개의 배열로 분할하여 분할된 각 배열의 원소들을 제곱한 결과를 다시 원본 배열에 행을 기준으로 병합하시오. (단, 마지막 출력 결과는 원본 배열과 차원이 같아야 한다.)\n",
        "\n",
        "```python\n",
        "arr = np.arange(2,20,2).reshape((3,3))\n",
        "```"
      ],
      "metadata": {
        "id": "HR-Z_KmWBwZG"
      }
    },
    {
      "cell_type": "code",
      "source": [
        "import numpy as np\n",
        "arr = np.arange(2,20,2).reshape((3,3))\n",
        "#print(arr)\n",
        "\n",
        "arr1,arr2,arr3 = np.split(arr,3)\n",
        "#print(arr1,arr2,arr3)\n",
        "\n",
        "ans = np.concatenate((arr1,arr2,arr3,np.square(arr1),np.square(arr2),np.square(arr3)),axis=0)\n",
        "print(ans)"
      ],
      "metadata": {
        "colab": {
          "base_uri": "https://localhost:8080/"
        },
        "id": "igJEFSNNAqW9",
        "outputId": "d1cf3b88-cde8-4bf1-bbe0-409e0bd980d2"
      },
      "execution_count": null,
      "outputs": [
        {
          "output_type": "stream",
          "name": "stdout",
          "text": [
            "[[  2   4   6]\n",
            " [  8  10  12]\n",
            " [ 14  16  18]\n",
            " [  4  16  36]\n",
            " [ 64 100 144]\n",
            " [196 256 324]]\n"
          ]
        }
      ]
    },
    {
      "cell_type": "code",
      "source": [
        "# 강의 답안\n",
        "import numpy as np\n",
        "arr = np.arange(2,20,2).reshape((3,3))\n",
        "\n",
        "spt = np.split(arr,3,axis=0)\n",
        "print(spt)\n",
        "print(type(spt))\n",
        "print()\n",
        "\n",
        "spt_square = np.square(spt)\n",
        "print(spt_square)\n",
        "print(type(spt_square))\n",
        "print()\n",
        "\n",
        "square_squeeze = np.squeeze(spt_square,axis=1) ## axis=1임에 주의\n",
        "print(square_squeeze)\n",
        "print()\n",
        "\n",
        "result = np.concatenate((arr,square_squeeze),axis=0)\n",
        "print(result)\n"
      ],
      "metadata": {
        "colab": {
          "base_uri": "https://localhost:8080/"
        },
        "id": "3E6XrUVrDW6q",
        "outputId": "7483f874-f9a8-4517-abb6-fa969eb170bb"
      },
      "execution_count": null,
      "outputs": [
        {
          "output_type": "stream",
          "name": "stdout",
          "text": [
            "[[  2   4   6]\n",
            " [  8  10  12]\n",
            " [ 14  16  18]\n",
            " [  4  16  36]\n",
            " [ 64 100 144]\n",
            " [196 256 324]]\n"
          ]
        }
      ]
    },
    {
      "cell_type": "markdown",
      "source": [
        "### 🤔 궁금한 포인트\n",
        "Q) spt는 분명히 리스트인데, np.square(spt) 를 했더니 왜 numpy array로 바뀌는 걸까?\n",
        "\n",
        "A)\n",
        "\n",
        "np.square()는 numpy의 ufunc (universal function) 중 하나다.\n",
        "\n",
        "이런 함수들은 다음과 같은 특성을 가진다:\n",
        "\n",
        "numpy 배열뿐만 아니라 리스트, 리스트 안에 배열, 중첩 구조 등 다양한 입력을 자동으로 numpy 배열로 변환한 후 계산합니다.\n",
        "\n",
        "따라서 **np.square는 내부적으로 먼저 np.array(spt)처럼 변환한 다음 각 원소를 제곱한 결과를 반환한다.**\n"
      ],
      "metadata": {
        "id": "EAdVVE0fE4Pw"
      }
    },
    {
      "cell_type": "markdown",
      "source": [
        "---\n",
        "<실습예제5> 삼각함수의 특수각(0,30,60,90)을 numpy.array로 생성한 후 특수각에 해당하는 sin,cos,tan값을 각각 구하여 파이썬 list에 담은 다음 해당 list에 들어있는 값들을 출력하시오. (단, 값이 무한대라면 \"INF\"문자열을 출력할 것\n",
        "\n",
        "tip) numpy에서 삼각함수는 radian 값을 사용하기 때문에 각을 radian으로 변경해야 합니다. (degree * pi / 180)"
      ],
      "metadata": {
        "id": "2IVw_JeDKXMN"
      }
    },
    {
      "cell_type": "code",
      "source": [
        "import numpy as np\n",
        "\n",
        "arr = np.array([0,30,60,90])\n",
        "\n",
        "ans = []\n",
        "\n",
        "for i in arr:\n",
        "    ans.append(np.sin(i*np.pi/180) if np.sin(i*np.pi/180)<99999 else \"INF\")\n",
        "    ans.append(np.cos(i*np.pi/180) if np.cos(i*np.pi/180)<99999 else \"INF\")\n",
        "    ans.append(np.tan(i*np.pi/180) if np.tan(i*np.pi/180)<99999 else \"INF\")\n",
        "\n",
        "\n",
        "for j in ans:\n",
        "    print(j)"
      ],
      "metadata": {
        "colab": {
          "base_uri": "https://localhost:8080/"
        },
        "id": "ICFr0z0JH8KN",
        "outputId": "31e418ba-ee00-4946-ce8f-2b9ff720d150"
      },
      "execution_count": null,
      "outputs": [
        {
          "output_type": "stream",
          "name": "stdout",
          "text": [
            "0.0\n",
            "1.0\n",
            "0.0\n",
            "0.49999999999999994\n",
            "0.8660254037844387\n",
            "0.5773502691896257\n",
            "0.8660254037844386\n",
            "0.5000000000000001\n",
            "1.7320508075688767\n",
            "1.0\n",
            "6.123233995736766e-17\n",
            "INF\n"
          ]
        }
      ]
    },
    {
      "cell_type": "markdown",
      "source": [
        "내 코드 분석\n",
        "\n",
        "👍 장점\n",
        "\n",
        "- 읽기 쉬움: 사람 눈에 직관적이에요. 각도 하나씩 돌면서 sin, cos, tan 순으로 append.\n",
        "- 출력 순서가 명확: 각도 → sin, cos, tan → 다음 각도 순서로 출력됨\n",
        "- 가독성이 좋음: if ~ else 문이 바로 값 뒤에 붙어서 무엇을 의도한 건지 금방 알 수 있음\n",
        "\n",
        "👎 단점\n",
        "\n",
        "- np.tan(90°)는 inf 가 아니라 overflow + 매우 큰 수 (~1.6e16) 를 반환하기 때문에 99999는 약간 애매한 기준이에요. → 더 안정적으로 np.isinf() 또는 np.isclose()를 쓰는 게 좋아요.\n",
        "- np.sin(i*np.pi/180) 같은 계산이 중복됨 → 변수를 써도 좋았음\n",
        "\n",
        "=> 중복된 부분 변수화 개선\n",
        "```python\n",
        "for i in arr:\n",
        "    rad = i * np.pi / 180  # radian으로 변환한 값 변수로 저장\n",
        "\n",
        "    sin_val = np.sin(rad)\n",
        "    cos_val = np.cos(rad)\n",
        "    tan_val = np.tan(rad)\n",
        "\n",
        "    ans.append(sin_val if sin_val < 99999 else \"INF\")\n",
        "    ans.append(cos_val if cos_val < 99999 else \"INF\")\n",
        "    ans.append(tan_val if tan_val < 99999 else \"INF\")\n",
        "```\n",
        "\n",
        "=> 무한대 판별 정확하게 개선\n",
        "\n",
        "```python\n",
        "import numpy as np\n",
        "\n",
        "arr = np.array([0, 30, 60, 90])\n",
        "ans = []\n",
        "\n",
        "for i in arr:\n",
        "    rad = np.radians(i)  # 각도를 라디안으로 변환\n",
        "\n",
        "    sin_val = np.sin(rad)\n",
        "    cos_val = np.cos(rad)\n",
        "    tan_val = np.tan(rad)\n",
        "\n",
        "    ans.append(sin_val if not np.isinf(sin_val) else \"INF\")\n",
        "    ans.append(cos_val if not np.isinf(cos_val) else \"INF\")\n",
        "    ans.append(tan_val if not np.isinf(tan_val) else \"INF\")\n",
        "\n",
        "for j in ans:\n",
        "    print(j)\n",
        "```\n",
        "\n",
        "🔍 설명\n",
        "\n",
        "- np.isinf(value)는 값이 무한대(+inf, -inf)인지 확인해줍니다.\n",
        "\n",
        "- not np.isinf(x) 조건을 써서 무한대가 아닌 경우만 실수값으로, 그렇지 않으면 \"INF\"로 출력"
      ],
      "metadata": {
        "id": "CAhyAKEWQRdO"
      }
    },
    {
      "cell_type": "code",
      "source": [
        "# 강의 답안\n",
        "arr = np.arange(0,91,30)\n",
        "print(arr)\n",
        "\n",
        "lst = []\n",
        "lst.append(np.sin(arr*np.pi/180))\n",
        "lst.append(np.cos(arr*np.pi/180))\n",
        "lst.append(np.tan(arr*np.pi/180))\n",
        "print(lst)\n",
        "\n",
        "for value_lst in lst:\n",
        "    for value in value_lst:\n",
        "        if value > 99999:\n",
        "            print(\"INF\")\n",
        "            continue;\n",
        "        print(value)\n",
        "    print()"
      ],
      "metadata": {
        "colab": {
          "base_uri": "https://localhost:8080/"
        },
        "id": "qgwCh9B-MOVp",
        "outputId": "f7c0418d-2d6e-415c-f34b-3b4d9accf4b9"
      },
      "execution_count": null,
      "outputs": [
        {
          "output_type": "stream",
          "name": "stdout",
          "text": [
            "[ 0 30 60 90]\n",
            "[array([0.       , 0.5      , 0.8660254, 1.       ]), array([1.00000000e+00, 8.66025404e-01, 5.00000000e-01, 6.12323400e-17]), array([0.00000000e+00, 5.77350269e-01, 1.73205081e+00, 1.63312394e+16])]\n",
            "0.0\n",
            "0.49999999999999994\n",
            "0.8660254037844386\n",
            "1.0\n",
            "\n",
            "1.0\n",
            "0.8660254037844387\n",
            "0.5000000000000001\n",
            "6.123233995736766e-17\n",
            "\n",
            "0.0\n",
            "0.5773502691896257\n",
            "1.7320508075688767\n",
            "INF\n",
            "\n"
          ]
        }
      ]
    },
    {
      "cell_type": "markdown",
      "source": [
        "답안 코드 분석\n",
        "\n",
        "👍 장점\n",
        "\n",
        "- 벡터화(vectorization): sin/cos/tan을 배열 전체에 한 번에 적용 → numpy 방식의 고효율 처리\n",
        "- 한꺼번에 계산해서 lst에 저장하고, 이중 for문으로 출력하는 구조\n",
        "- 깔끔하게 sin 리스트, cos 리스트, tan 리스트로 나뉘어 있어 나중에 다른 용도로 쓰기도 좋음\n",
        "\n",
        "👎 단점\n",
        "\n",
        "- 출력 순서가 덜 직관적: sin 전부 출력 → cos 전부 → tan 전부\n",
        "⇒ 사람이 각도별로 보는 방식과 달라서 직관성이 떨어짐\n",
        "- value > 99999로 무한대 판단하는 게 불명확함\n",
        "⇒ 무한대는 np.isinf() 또는 np.isclose(value, huge_number) 써야 정확함"
      ],
      "metadata": {
        "id": "v1ZVRl04QFn-"
      }
    },
    {
      "cell_type": "markdown",
      "source": [
        "<실습 예제 6> numpy.array를 이용하여 다음과 같은 패턴을 출력하시오. (단, 출력 시 반복문을 사용하여 출력한다.)\n",
        "```python\n",
        "0 1 0 1 0 1 0\n",
        "1 0 1 0 1 0 1\n",
        "0 1 0 1 0 1 0\n",
        "1 0 1 0 1 0 1\n",
        "0 1 0 1 0 1 0\n",
        "1 0 1 0 1 0 1\n",
        "0 1 0 1 0 1 0\n",
        "```"
      ],
      "metadata": {
        "id": "ql_mmG0OYxN-"
      }
    },
    {
      "cell_type": "code",
      "source": [
        "import numpy as np\n",
        "a = np.array([[0,1,0,1,0,1,0]])\n",
        "b = np.array([[1,0,1,0,1,0,1]])\n",
        "\n",
        "ans = np.concatenate((a,b,a,b,a,b,a),axis=0)\n",
        "for row in ans:\n",
        "    for i in row:\n",
        "        print(i,end=\" \")\n",
        "    print()"
      ],
      "metadata": {
        "colab": {
          "base_uri": "https://localhost:8080/"
        },
        "id": "JjKgkvi3Tsjb",
        "outputId": "184b8251-9934-4fe7-81a9-fb126ad3cbb5"
      },
      "execution_count": null,
      "outputs": [
        {
          "output_type": "stream",
          "name": "stdout",
          "text": [
            "0 1 0 1 0 1 0 \n",
            "1 0 1 0 1 0 1 \n",
            "0 1 0 1 0 1 0 \n",
            "1 0 1 0 1 0 1 \n",
            "0 1 0 1 0 1 0 \n",
            "1 0 1 0 1 0 1 \n",
            "0 1 0 1 0 1 0 \n"
          ]
        }
      ]
    },
    {
      "cell_type": "code",
      "source": [
        "#강의답안\n",
        "import numpy as np\n",
        "\n",
        "arr = np.zeros((7,7),dtype=int)\n",
        "print(arr)\n",
        "print()\n",
        "\n",
        "#step1\n",
        "arr[1::2,::2]=1\n",
        "print(arr)\n",
        "print()\n",
        "\n",
        "#step2\n",
        "arr[::2,1::2]=1\n",
        "print(arr)\n",
        "print()\n",
        "\n",
        "for row in arr:\n",
        "    for i in row:\n",
        "        print(i,end=\" \")\n",
        "    print()"
      ],
      "metadata": {
        "colab": {
          "base_uri": "https://localhost:8080/"
        },
        "id": "gH_nJowPo5vh",
        "outputId": "e4199483-e017-4c73-95e9-1609aa5c207e"
      },
      "execution_count": 89,
      "outputs": [
        {
          "output_type": "stream",
          "name": "stdout",
          "text": [
            "[[0 0 0 0 0 0 0]\n",
            " [0 0 0 0 0 0 0]\n",
            " [0 0 0 0 0 0 0]\n",
            " [0 0 0 0 0 0 0]\n",
            " [0 0 0 0 0 0 0]\n",
            " [0 0 0 0 0 0 0]\n",
            " [0 0 0 0 0 0 0]]\n",
            "\n",
            "[[0 0 0 0 0 0 0]\n",
            " [1 0 1 0 1 0 1]\n",
            " [0 0 0 0 0 0 0]\n",
            " [1 0 1 0 1 0 1]\n",
            " [0 0 0 0 0 0 0]\n",
            " [1 0 1 0 1 0 1]\n",
            " [0 0 0 0 0 0 0]]\n",
            "\n",
            "[[0 1 0 1 0 1 0]\n",
            " [1 0 1 0 1 0 1]\n",
            " [0 1 0 1 0 1 0]\n",
            " [1 0 1 0 1 0 1]\n",
            " [0 1 0 1 0 1 0]\n",
            " [1 0 1 0 1 0 1]\n",
            " [0 1 0 1 0 1 0]]\n",
            "\n",
            "0 1 0 1 0 1 0 \n",
            "1 0 1 0 1 0 1 \n",
            "0 1 0 1 0 1 0 \n",
            "1 0 1 0 1 0 1 \n",
            "0 1 0 1 0 1 0 \n",
            "1 0 1 0 1 0 1 \n",
            "0 1 0 1 0 1 0 \n"
          ]
        }
      ]
    },
    {
      "cell_type": "markdown",
      "source": [
        "<실습예제7> 다음 두 행렬에 대하여 내적 연산을 수행한 결과값을 출력하시오. (단, 결과의 소수점 아래는 제거한다.)\n",
        "```python\n",
        "[[2.1,3.5],\n",
        " [4.2,2.7],\n",
        " [2.3,1.9]]\n",
        "\n",
        "[[5,2,3],\n",
        " [1,3,5]]\n",
        " ```"
      ],
      "metadata": {
        "id": "ixbq-jElrIZR"
      }
    },
    {
      "cell_type": "code",
      "source": [
        "import numpy as np\n",
        "\n",
        "arr1 = np.array([[2.1,3.5],\n",
        "                 [4.2,2.7],\n",
        "                 [2.3,1.9]])\n",
        "arr2 = np.array([[5,2,3],\n",
        "                 [1,3,5]])\n",
        "\n",
        "arr3 = arr1@arr2\n",
        "# ans = np.floor(arr3) => 이건 내림\n",
        "ans = np.trunc(arr3) # => 이게 버림\n",
        "print(ans.astype(int))\n",
        "print(arr3.astype(int)) # => 이것도 버림"
      ],
      "metadata": {
        "colab": {
          "base_uri": "https://localhost:8080/"
        },
        "id": "FwQxy60irPjX",
        "outputId": "d9a27354-44a5-451e-966b-5ab9ac9186ee"
      },
      "execution_count": 95,
      "outputs": [
        {
          "output_type": "stream",
          "name": "stdout",
          "text": [
            "[[14 14 23]\n",
            " [23 16 26]\n",
            " [13 10 16]]\n",
            "[[14 14 23]\n",
            " [23 16 26]\n",
            " [13 10 16]]\n"
          ]
        }
      ]
    },
    {
      "cell_type": "markdown",
      "source": [
        "\n",
        "🔍 핵심 차이점: 양수보다 음수에서 차이남!\n",
        "\n",
        "## ✅ 소수점 자르기 함수 비교: `trunc`, `floor`, `astype(int)`\n",
        "\n",
        "| 함수/방법          | 설명                                                       | 예시 (+값)                  | 예시 (-값)                  |\n",
        "|-------------------|------------------------------------------------------------|-----------------------------|-----------------------------|\n",
        "| `np.trunc(x)`     | 소수점 이하 버림 (0 방향으로 자름)                          | `np.trunc(3.7)` → `3.0`     | `np.trunc(-3.7)` → `-3.0`   |\n",
        "| `np.floor(x)`     | **내림 (floor)**: 작거나 같은 정수로 내림                  | `np.floor(3.7)` → `3.0`     | `np.floor(-3.7)` → `-4.0`   |\n",
        "| `x.astype(int)`   | **정수로 강제 형변환**. 소수점 이하를 버림 (0 방향으로 자름) | `np.array([3.7]).astype(int)` → `3` | `np.array([-3.7]).astype(int)` → `-3` |\n",
        "\n"
      ],
      "metadata": {
        "id": "UkCTksa2ufJM"
      }
    },
    {
      "cell_type": "markdown",
      "source": [
        "---\n",
        "📌 <실습예제8> 조건 연산자를 활용한 Boolean 인덱싱을 이용하여 다음 배열의 원소들 중 2와 5의 배수만 추출한 결과를 오름차순 정렬하여 (2,4) 행렬로 출력하시오.\n",
        "==> 출제오류 : 2,4,5,6,8,10,10 이렇게 10을 두번씩 세어야 (2,4)행렬 가능...\n",
        "```python\n",
        "[[1,2,3,4],\n",
        " [5,6,7,8],\n",
        " [9,10,11,12]]\n",
        "```"
      ],
      "metadata": {
        "id": "UyDVsyZEvacU"
      }
    },
    {
      "cell_type": "code",
      "source": [
        "import numpy as np\n",
        "\n",
        "arr = np.array([[1,2,3,4],\n",
        "                [5,6,7,8],\n",
        "                [9,10,11,12]])\n",
        "\n",
        "print(arr[(arr%2==0) | (arr%5==0)])\n",
        "\n",
        "#ans = arr[(arr%2==0) | (arr%5==0)].sort() => 이건 in-place정렬이라 반환값이 None!!!\n",
        "ans = np.sort(arr[(arr%2==0) | (arr%5==0)])\n",
        "\n",
        "print(ans)"
      ],
      "metadata": {
        "colab": {
          "base_uri": "https://localhost:8080/"
        },
        "id": "fPC5dtPYvbc5",
        "outputId": "a49c0624-f94c-474d-e53d-205fd9da50dc"
      },
      "execution_count": 117,
      "outputs": [
        {
          "output_type": "stream",
          "name": "stdout",
          "text": [
            "[ 2  4  5  6  8 10 12]\n",
            "[ 2  4  5  6  8 10 12]\n"
          ]
        }
      ]
    },
    {
      "cell_type": "markdown",
      "source": [
        "```python\n",
        "import numpy as np\n",
        "\n",
        "arr = np.array([[1,2,3,4],\n",
        "                [5,6,7,8],\n",
        "                [9,10,11,12]])\n",
        "\n",
        "print(arr[arr%2==0 or arr%5==0])\n",
        "```\n",
        "위의 코드가 오류가 난 이유: Python의 or 연산자와 NumPy의 배열(Boolean 배열) 연산 방식의 차이 때문입니다.\n",
        "\n",
        "- or은 Python의 논리 연산자이고, 두 개의 Boolean 값 (예: True or False)만 처리할 수 있어요.\n",
        "\n",
        "- 그런데 arr % 2 == 0와 arr % 5 == 0은 각각 Boolean 배열을 반환하죠:\n",
        "```\n",
        "arr%2==0 의 결과:\n",
        "[[False  True False  True]\n",
        " [False  True False  True]\n",
        " [False  True False  True]]\n",
        "```\n",
        "- 즉, or는 두 개의 \"Boolean값\"을 보고 판단해야 하는데, 배열은 True/False 한 개로 줄일 수 없기 때문에 오류가 나는 거예요.\n",
        "\n",
        "✅ 해결 방법: NumPy 전용 논리 연산자를 사용해야 합니다\n",
        "\n",
        "🔧 np.logical_or() 또는 | 연산자 사용\n",
        "\n",
        "---\n",
        "\n",
        "## ✅ NumPy에서 비트 연산자를 논리 연산처럼 사용하는 이유\n",
        "\n",
        "- and, or, not 같은 Python의 논리 연산자는 전체 Boolean 값을 기대합니다.\n",
        "- 하지만 **NumPy는 원소마다 비교를 하므로, 비트 연산자(&, |, ~, ^)를 활용해 논리적 의미의 연산을 할 수 있어요.**\n",
        "- **단, Boolean 배열 간의 원소별 연산으로 제대로 사용하려면 괄호가 필수**예요."
      ],
      "metadata": {
        "id": "FXStUItZx5DJ"
      }
    },
    {
      "cell_type": "markdown",
      "source": [
        "---\n",
        "\n",
        "<실습예제9> 10진수 100이상 150미만 사이에 존재하는 정수를 무작위로 추출하여 (3,10) 형태의 행렬로 만들고 행과 열을 전치한 결과를 출력하시오."
      ],
      "metadata": {
        "id": "dD_C2OQC4AZk"
      }
    },
    {
      "cell_type": "code",
      "source": [
        "import numpy as np\n",
        "\n",
        "arr = np.random.randint(100,150,(3,10))\n",
        "print(arr)\n",
        "ans = arr.T\n",
        "print(ans)"
      ],
      "metadata": {
        "colab": {
          "base_uri": "https://localhost:8080/"
        },
        "id": "jePeMNei3xCf",
        "outputId": "6e3c0629-6267-47d9-da47-80d6e81e92b8"
      },
      "execution_count": 118,
      "outputs": [
        {
          "output_type": "stream",
          "name": "stdout",
          "text": [
            "[[123 123 146 145 120 109 113 124 113 126]\n",
            " [115 148 141 108 103 115 102 131 141 149]\n",
            " [116 115 144 139 100 128 129 105 132 120]]\n",
            "[[123 115 116]\n",
            " [123 148 115]\n",
            " [146 141 144]\n",
            " [145 108 139]\n",
            " [120 103 100]\n",
            " [109 115 128]\n",
            " [113 102 129]\n",
            " [124 131 105]\n",
            " [113 141 132]\n",
            " [126 149 120]]\n"
          ]
        }
      ]
    },
    {
      "cell_type": "markdown",
      "source": [
        "<실습예제10> 10진수 10~20 사이에 존재하는 실수형의 수를 무작위로 10000개 추출하여 100개의 구간에 그래프로 시각화하시오.\n",
        "(단, 무작위 실수 값은 균등한 비율로 추출해야 하며 그래프 시각화 도구는 pyplot 모듈을 사용할 것)"
      ],
      "metadata": {
        "id": "eIZZ0hDF6fXW"
      }
    },
    {
      "cell_type": "code",
      "source": [
        "import numpy as np\n",
        "import matplotlib.pyplot as plt\n",
        "\n",
        "arr = np.random.randint(10,20,size=10000)\n",
        "plt.hist(arr)\n",
        "\n",
        "plt.show()"
      ],
      "metadata": {
        "colab": {
          "base_uri": "https://localhost:8080/",
          "height": 430
        },
        "id": "8D8vzJ6N441h",
        "outputId": "b50b15d6-2656-4a10-c30a-68d5f34f3642"
      },
      "execution_count": 124,
      "outputs": [
        {
          "output_type": "display_data",
          "data": {
            "text/plain": [
              "<Figure size 640x480 with 1 Axes>"
            ],
            "image/png": "[encoded data removed]"
          },
          "metadata": {}
        }
      ]
    }
  ]
}